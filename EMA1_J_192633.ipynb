{
 "cells": [
  {
   "cell_type": "markdown",
   "metadata": {},
   "source": [
    "### 1. Turning Tables"
   ]
  },
  {
   "cell_type": "code",
   "execution_count": 11,
   "metadata": {},
   "outputs": [
    {
     "name": "stdout",
     "output_type": "stream",
     "text": [
      "Enter rows: 5\n",
      "<table>\n",
      "<tr class='lightyellowrow'><td>1</td><td>1</td></tr>\n",
      "<tr class='whiterow'><td>2</td><td>4</td></tr>\n",
      "<tr class='lightyellowrow'><td>3</td><td>9</td></tr>\n",
      "<tr class='whiterow'><td>4</td><td>16</td></tr>\n",
      "<tr class='lightyellowrow'><td>5</td><td>25</td></tr>\n",
      "</table>\n"
     ]
    }
   ],
   "source": [
    "def turn_table(rows):\n",
    "    print(\"<table>\")\n",
    "    for i in range(1,rows+1):\n",
    "        if (i%2)==0:\n",
    "            print(\"<tr class='whiterow'><td>\"+str(i)+\"</td><td>\"+str((i**2))+\"</td></tr>\")\n",
    "        else:\n",
    "            print(\"<tr class='lightyellowrow'><td>\"+str(i)+\"</td><td>\"+str((i**2))+\"</td></tr>\")\n",
    "    print(\"</table>\")\n",
    "    \n",
    "rows = int(input(\"Enter rows: \"))\n",
    "turn_table(rows)"
   ]
  },
  {
   "cell_type": "markdown",
   "metadata": {},
   "source": [
    "### 2. Dating Norms"
   ]
  },
  {
   "cell_type": "code",
   "execution_count": 12,
   "metadata": {},
   "outputs": [
    {
     "name": "stdout",
     "output_type": "stream",
     "text": [
      "Do you prefer (a) the mountains, (b) the city, or (c) the beach? A\n"
     ]
    }
   ],
   "source": [
    "dayList = [[1,2,3,4,5,6,7,8,9,10,11,12,13,14,15,16,17,18,19,20,21,22,23,24,25,26,27,28,29,30,31],]\n",
    "\n",
    "def Date_Availability(day,month,year):\n",
    "    day = int(input(\"Enter day: \"))\n",
    "    month = int(input(\"Enter month in numbers: ))\"))\n",
    "    year = int(input(\"Enter year: \"))\n",
    "    \n",
    "    "
   ]
  },
  {
   "cell_type": "markdown",
   "metadata": {},
   "source": [
    "### 3. Followers"
   ]
  },
  {
   "cell_type": "code",
   "execution_count": 7,
   "metadata": {},
   "outputs": [
    {
     "name": "stdout",
     "output_type": "stream",
     "text": [
      "Enter number and see if it's an obedient number: 123\n",
      "True\n"
     ]
    }
   ],
   "source": [
    "def obedient(num):\n",
    "    # obedient numbers are divisible by 3 and leaves no remainder\n",
    "    return (num%3) == 0\n",
    "\n",
    "num = int(input(\"Enter number to identify if it's an obedient number: \"))\n",
    "          \n",
    "obedient(num)\n",
    "    "
   ]
  },
  {
   "cell_type": "markdown",
   "metadata": {},
   "source": [
    "### 4. Go Forth and Multiply"
   ]
  },
  {
   "cell_type": "code",
   "execution_count": 24,
   "metadata": {},
   "outputs": [
    {
     "name": "stdout",
     "output_type": "stream",
     "text": [
      "Enter size of multiplication table: 4\n",
      "1\t2\t3\t4\t\n",
      "2\t4\t6\t8\t\n",
      "3\t6\t9\t12\t\n",
      "4\t8\t12\t16\t\n"
     ]
    }
   ],
   "source": [
    "def multtable(size):\n",
    "    for i in range(1,size+1):\n",
    "        for g in range(1,size+1):\n",
    "            print(str(i*g),end=\"\\t\")\n",
    "        print()\n",
    "        \n",
    "size = int(input(\"Enter size of multiplication table: \"))\n",
    "multtable(size)"
   ]
  },
  {
   "cell_type": "markdown",
   "metadata": {},
   "source": [
    "### 5. Avatar"
   ]
  },
  {
   "cell_type": "code",
   "execution_count": 13,
   "metadata": {},
   "outputs": [
    {
     "name": "stdout",
     "output_type": "stream",
     "text": [
      "Do you prefer (a)the mountains, (b)the city, or (c)the beach? a\n",
      "Do you prefer (a)yoghurt, (b)ice cream, or (c)gelato? b\n",
      "Do you prefer (a)reading, (b)singing, or (c)writing? c\n",
      "Do you prefer (a)sweet, (b)salty, or (c)spicy food? a\n",
      "Do you prefer (a)cats, (b)dogs, or (c)fish? b\n"
     ]
    }
   ],
   "source": [
    "def buzzfeedquiz():\n",
    "    questionlist = [[\"the mountains\",\"the city\",\"the beach\"],[\"yoghurt\",\"ice cream\",\"gelato\"],[\"reading\",\"singing\",\"writing\"],[\"sweet\",\"salty\",\"spicy food\"],[\"cats\",\"dogs\",\"fish\"]]\n",
    "    answers = {\n",
    "        \"fire\":[\"the mountains\",\"gelato\",\"singing\",\"spicy food\",\"dogs\"],\n",
    "        \"water\":[\"the beach\",\"ice cream\",\"reading\",\"salty\",\"fish\"],\n",
    "        \"earth\":[\"the city\",\"yoghurt\",\"writing\",\"sweet\",\"cats\"]\n",
    "    }\n",
    "    \n",
    "    question = \"Do you prefer (a){}, (b){}, or (c){}? \"\n",
    "    earth = 0\n",
    "    fire = 0\n",
    "    water = 0\n",
    "    # formatted question and answer\n",
    "    for i in questionlist: \n",
    "        x = str(input(question.format(*i)))\n",
    "        if x in [\"a\",\"b\",\"c\"]:\n",
    "            # adding values to elements\n",
    "            if x in answers[\"fire\"]:\n",
    "                print(x)\n",
    "                fire += 1\n",
    "            elif x in answers[\"earth\"]:\n",
    "                print(x)\n",
    "                earth += 1\n",
    "            elif x in answers[\"water\"]:\n",
    "                print(x)\n",
    "                water += 1\n",
    "        else:\n",
    "            print(\"Sorry you inputted a wrong letter. Please start again.\")\n",
    "            buzzfeedquiz()\n",
    "            \n",
    "    # for winners\n",
    "    if earth > fire and earth > water:\n",
    "        print(\"Your element is Earth.\")\n",
    "    elif fire > earth and fire > water:\n",
    "        print(\"Your element is Fire.\")\n",
    "    elif water > earth and water > fire:\n",
    "        print(\"Your element is Water.\")\n",
    "    elif earth == water and earth > fire:\n",
    "        print(\"Your element is Water.\")\n",
    "    elif earth == fire and earth > water:\n",
    "        print(\"Your element is Earth.\")\n",
    "    elif fire == water and water > earth:\n",
    "        print(\"Your element is Fire.\")\n",
    "    \n",
    "buzzfeedquiz()"
   ]
  },
  {
   "cell_type": "code",
   "execution_count": null,
   "metadata": {},
   "outputs": [
    {
     "name": "stdout",
     "output_type": "stream",
     "text": [
      "(['the mountains', 'the city', 'the beach'], ['fire', 'earth', 'water'])\n"
     ]
    }
   ],
   "source": [
    "questionlist = [\n",
    "    ([\"the mountains\",\"the city\",\"the beach\"],[\"fire\",\"earth\",\"water\"]),\n",
    "    [\"yoghurt\",\"ice cream\",\"gelato\"],\n",
    "    [\"reading\",\"singing\",\"writing\"],\n",
    "    [\"sweet\",\"salty\",\"spicy food\"],\n",
    "    [\"cats\",\"dogs\",\"fish\"]]\n",
    "question = \"Do you prefer (a){}, (b){}, or (c){}? \"\n",
    "for i in questionlist:\n",
    "    input(question.format(*i[0]))\n",
    "    \n",
    "    if x == \"a\":\n",
    "        print(i[1][0])"
   ]
  },
  {
   "cell_type": "code",
   "execution_count": null,
   "metadata": {},
   "outputs": [],
   "source": []
  },
  {
   "cell_type": "code",
   "execution_count": null,
   "metadata": {},
   "outputs": [],
   "source": []
  },
  {
   "cell_type": "code",
   "execution_count": null,
   "metadata": {},
   "outputs": [],
   "source": []
  },
  {
   "cell_type": "code",
   "execution_count": null,
   "metadata": {},
   "outputs": [],
   "source": []
  }
 ],
 "metadata": {
  "kernelspec": {
   "display_name": "Python 3",
   "language": "python",
   "name": "python3"
  },
  "language_info": {
   "codemirror_mode": {
    "name": "ipython",
    "version": 3
   },
   "file_extension": ".py",
   "mimetype": "text/x-python",
   "name": "python",
   "nbconvert_exporter": "python",
   "pygments_lexer": "ipython3",
   "version": "3.7.6"
  }
 },
 "nbformat": 4,
 "nbformat_minor": 4
}
