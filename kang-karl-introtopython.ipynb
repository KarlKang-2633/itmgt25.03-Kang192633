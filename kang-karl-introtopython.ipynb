{
 "cells": [
  {
   "cell_type": "markdown",
   "metadata": {},
   "source": [
    "### 192633\n",
    "### Kang\n",
    "### 2 BS ME"
   ]
  },
  {
   "cell_type": "markdown",
   "metadata": {},
   "source": [
    "### Goal!\n",
    "\n",
    "*Make a program that accepts three (3) positive integers and prints the average.*\n",
    "\n",
    "1. Make a function that returns the numbers' average\n",
    "    * define three_number_average to take on firstno, secondno, thirdno.\n",
    "    * ave = (firstno + secondno + thirdno)/3\n",
    "    * return ave\n",
    "\n",
    "\n",
    "2. Accept numbers one at a time:\n",
    "    * Enter first number: *firstno*\n",
    "    * Enter second number: *secondno*\n",
    "    * Enter third number: *thirdno*\n",
    "    \n",
    "\n",
    "3. Compute for average\n",
    "\n",
    "\n",
    "4. Display the average          \n",
    "    "
   ]
  },
  {
   "cell_type": "code",
   "execution_count": 2,
   "metadata": {},
   "outputs": [],
   "source": [
    "#make function\n",
    "def three_number_average(firstno,secondno,thirdno):\n",
    "    ave = (firstno + secondno + thirdno)/3\n",
    "    return ave"
   ]
  },
  {
   "cell_type": "code",
   "execution_count": 3,
   "metadata": {},
   "outputs": [
    {
     "name": "stdout",
     "output_type": "stream",
     "text": [
      "This program takes the average of three numbers. Please make sure that the number you enter is a positive integer.\n",
      "Enter first number: 1\n",
      "Enter second number: 2\n",
      "Enter third number: 3\n",
      "The average value is 2.0\n"
     ]
    }
   ],
   "source": [
    "#intro\n",
    "print(\"This program takes the average of three numbers. Please make sure that the number you enter is a positive integer.\")\n",
    "\n",
    "#accept numbers\n",
    "firstno = int(input(\"Enter first number: \"))\n",
    "secondno = int(input(\"Enter second number: \"))\n",
    "thirdno = int(input(\"Enter third number: \"))\n",
    "\n",
    "#compute average\n",
    "ave = three_number_average(firstno,secondno,thirdno)\n",
    "\n",
    "#display average\n",
    "print(\"The average value is\",ave)"
   ]
  },
  {
   "cell_type": "code",
   "execution_count": null,
   "metadata": {},
   "outputs": [],
   "source": []
  }
 ],
 "metadata": {
  "kernelspec": {
   "display_name": "Python 3",
   "language": "python",
   "name": "python3"
  },
  "language_info": {
   "codemirror_mode": {
    "name": "ipython",
    "version": 3
   },
   "file_extension": ".py",
   "mimetype": "text/x-python",
   "name": "python",
   "nbconvert_exporter": "python",
   "pygments_lexer": "ipython3",
   "version": "3.7.6"
  }
 },
 "nbformat": 4,
 "nbformat_minor": 4
}
