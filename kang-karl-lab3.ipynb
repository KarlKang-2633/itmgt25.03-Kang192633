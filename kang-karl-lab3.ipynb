{
 "cells": [
  {
   "cell_type": "markdown",
   "metadata": {},
   "source": [
    "### 192633  \n",
    "### Kang  \n",
    "### 2 BS ME"
   ]
  },
  {
   "cell_type": "markdown",
   "metadata": {},
   "source": [
    "### Problem 1  \n",
    "\n",
    "Social Media Example"
   ]
  },
  {
   "cell_type": "code",
   "execution_count": 32,
   "metadata": {},
   "outputs": [
    {
     "name": "stdout",
     "output_type": "stream",
     "text": [
      "---0---\n",
      "followed by\n",
      "---1---\n",
      "friends\n",
      "---2---\n",
      "followed by\n",
      "---3---\n",
      "---4---\n",
      "followed by\n",
      "---5---\n",
      "friends\n",
      "---6---\n",
      "friends\n"
     ]
    }
   ],
   "source": [
    "social_graph = {\n",
    "                \"@bongolpoc\":{\"first_name\":\"Joselito\", \"last_name\":\"Olpoc\", \"following\":[]},\n",
    "                \"@joaquin\":  {\"first_name\":\"Joaquin\", \"last_name\":\"Gonzales\", \"following\":[\"@chums\",\"@jobenilagan\"]},\n",
    "                \"@chums\" : {\"first_name\":\"Matthew\", \"last_name\":\"Uy\", \"following\":[\"@bongolpoc\",\"@miketan\",\"@rudyang\",\"@joeilagan\"]},\n",
    "                \"@jobenilagan\":{\"first_name\":\"Joben\", \"last_name\":\"Ilagan\", \"following\":[\"@eeebeee\",\"@joeilagan\",\"@chums\",\"@joaquin\"]},\n",
    "                \"@joeilagan\":{\"first_name\":\"Joe\", \"last_name\":\"Ilagan\", \"following\":[\"@eeebeee\",\"@jobenilagan\",\"@chums\"]},\n",
    "                \"@eeebeee\":  {\"first_name\":\"Elizabeth\", \"last_name\":\"Ilagan\", \"following\":[\"@jobenilagan\",\"@joeilagan\"]},\n",
    "                }\n",
    "    \n",
    "def relationship_status(from_member, to_member):\n",
    "    frmem_following = social_graph[from_member][\"following\"]\n",
    "    tomem_following = social_graph[to_member][\"following\"]\n",
    "    \n",
    "    if from_member in tomem_following and to_member in frmem_following:\n",
    "        print(\"friends\")\n",
    "    elif from_member in tomem_following: \n",
    "        print(\"followed by\")\n",
    "    elif to_member in frmem_following:\n",
    "        print(\"follower\")\n",
    "    \n",
    "print(\"---0---\")    \n",
    "relationship_status(\"@chums\",\"@jobenilagan\")\n",
    "\n",
    "print(\"---1---\")\n",
    "relationship_status(\"@jobenilagan\",\"@joeilagan\")\n",
    "\n",
    "print(\"---2---\")\n",
    "relationship_status(\"@bongolpoc\",\"@chums\")\n",
    "\n",
    "print(\"---3---\")\n",
    "relationship_status(\"@bongolpoc\",\"@jobenilagan\")\n",
    "\n",
    "print(\"---4---\")\n",
    "relationship_status(\"@bongolpoc\",\"@chums\")\n",
    "\n",
    "print(\"---5---\")\n",
    "relationship_status(\"@chums\",\"@joeilagan\")\n",
    "\n",
    "print(\"---6---\")\n",
    "relationship_status(\"@joeilagan\",\"@chums\")     \n"
   ]
  },
  {
   "cell_type": "markdown",
   "metadata": {},
   "source": [
    "### Problem 2"
   ]
  },
  {
   "cell_type": "code",
   "execution_count": 6,
   "metadata": {},
   "outputs": [
    {
     "name": "stdout",
     "output_type": "stream",
     "text": [
      "-Call 1-\n",
      "Winner: X\n",
      "\n",
      "-Call 2-\n",
      "\n",
      "-Call 3-\n",
      "Winner: O\n"
     ]
    }
   ],
   "source": [
    "board1 = [\n",
    "          ['X','X','O'],\n",
    "          ['O','X','O'],\n",
    "          ['O','','X'],\n",
    "         ]\n",
    "\n",
    "board2 = [\n",
    "          ['X','X','O'],\n",
    "          ['O','X','O'],\n",
    "          ['','O','X'],\n",
    "         ]\n",
    "\n",
    "board3 = [\n",
    "          ['O','X','O'],\n",
    "          ['','O','X'],\n",
    "          ['X','X','O'],\n",
    "         ]\n",
    "\n",
    "board4 = [\n",
    "          ['X','X','X'],\n",
    "          ['O','X','O'],\n",
    "          ['O','','O'],\n",
    "         ]\n",
    "\n",
    "board5 = [\n",
    "          ['X','X','O'],\n",
    "          ['O','X','O'],\n",
    "          ['X','','O'],\n",
    "         ]\n",
    "\n",
    "board6 = [\n",
    "          ['X','X','O'],\n",
    "          ['O','X','O'],\n",
    "          ['X','',''],\n",
    "         ]\n",
    "\n",
    "def get_winner(board):\n",
    "    \n",
    "    ## diagonal (left to right)\n",
    "    d_l2r = [board[i][i] for i,v in enumerate(board)]\n",
    "    \n",
    "    ## diagonal (right to left)\n",
    "    d_r2l = [board[i][2-i] for i,v in enumerate(board)]\n",
    "\n",
    "    ## rows\n",
    "    rows = [x for x in board]\n",
    "    \n",
    "    ## columns\n",
    "    columns = [x for x in zip(*board)]\n",
    "    \n",
    "    if len(set(d_l2r)) == 1: # if the values in list d_l2r are put into a set and all are equal... \n",
    "        print(\"Winner:\",d_l2r[0]) # ...there should only be one element; same logic applies to the rest...\n",
    "    elif len(set(d_r2l)) == 1:\n",
    "        print(\"Winner:\",d_r2l[0])\n",
    "    for e in rows:\n",
    "        if len(set(e)) == 1:\n",
    "            print(\"Winner:\",e[0])\n",
    "        else:\n",
    "            pass\n",
    "    for e in columns:\n",
    "        if len(set(e)) == 1:\n",
    "            print(\"Winner:\",e[0])\n",
    "        else:\n",
    "            pass\n",
    "\n",
    "print(\"-Call 1-\")\n",
    "get_winner(board1)\n",
    "print()\n",
    "\n",
    "print(\"-Call 2-\")\n",
    "get_winner(board6)\n",
    "print()\n",
    "\n",
    "print(\"-Call 3-\")\n",
    "get_winner(board3)\n"
   ]
  },
  {
   "cell_type": "markdown",
   "metadata": {},
   "source": [
    "### Problem 3"
   ]
  },
  {
   "cell_type": "code",
   "execution_count": 3,
   "metadata": {},
   "outputs": [
    {
     "name": "stdout",
     "output_type": "stream",
     "text": [
      "Enter source: admu\n",
      "Enter destination: upd\n",
      "ETA: 90\n"
     ]
    }
   ],
   "source": [
    "locations = {\n",
    "    \"admu\":{\n",
    "        \"name\":\"Ateneo de Manila University\",\n",
    "        \"latitude\":14.6394557,\n",
    "        \"longitude\":121.0758975        \n",
    "    },\n",
    "    \"upd\":{\n",
    "        \"name\":\"University of the Philippines-Diliman Campus\",\n",
    "        \"latitude\":14.6538519,\n",
    "        \"longitude\":121.0663348\n",
    "    },\n",
    "    \"dlsu\":{\n",
    "        \"name\":\"De La Salle University-Taft\",\n",
    "        \"latitude\":14.5647346,\n",
    "        \"longitude\":120.9909876\n",
    "\n",
    "    }, # <-- Note that Python does not complain about this extra comma. This is perfectly okay.\n",
    "       #     The creators of Python saw that dictionaries tend to be changed a lot, so allowing this is a\n",
    "       #     convenience for developers who need to add elements when needed.\n",
    "}\n",
    "\n",
    "legs = {\n",
    "     (\"upd\",\"admu\"):{\n",
    "         \"travel_time_mins\":10\n",
    "     },\n",
    "     (\"admu\",\"dlsu\"):{\n",
    "         \"travel_time_mins\":35\n",
    "     },\n",
    "     (\"dlsu\",\"upd\"):{\n",
    "         \"travel_time_mins\":55\n",
    "     }\n",
    "}\n",
    "\n",
    "def eta(source,destination):\n",
    "    if (source,destination) == (\"upd\",\"admu\"):\n",
    "        return legs[source,destination][\"travel_time_mins\"]\n",
    "    elif (source,destination) == (\"admu\",\"dlsu\"):\n",
    "        return legs[source,destination][\"travel_time_mins\"]\n",
    "    elif (source,destination) == (\"dlsu\",\"upd\"):\n",
    "        return legs[source,destination][\"travel_time_mins\"]\n",
    "    elif (source,destination) == (\"upd\",\"dlsu\"):\n",
    "        return legs[source,\"admu\"][\"travel_time_mins\"] + legs[\"admu\",destination][\"travel_time_mins\"]\n",
    "    elif (source,destination) == (\"admu\",\"upd\"):\n",
    "        return legs[source,\"dlsu\"][\"travel_time_mins\"] + legs[\"dlsu\",destination][\"travel_time_mins\"]\n",
    "    elif (source,destination) == (\"dlsu\",\"admu\"):\n",
    "        return legs[source,\"upd\"][\"travel_time_mins\"] + legs[\"upd\",destination][\"travel_time_mins\"]\n",
    "    \n",
    "source = str(input(\"Enter source: \"))\n",
    "destination = str(input(\"Enter destination: \"))\n",
    "\n",
    "print(\"ETA:\",eta(source,destination))"
   ]
  },
  {
   "cell_type": "code",
   "execution_count": null,
   "metadata": {},
   "outputs": [],
   "source": []
  }
 ],
 "metadata": {
  "kernelspec": {
   "display_name": "Python 3",
   "language": "python",
   "name": "python3"
  }
 },
 "nbformat": 4,
 "nbformat_minor": 4
}
