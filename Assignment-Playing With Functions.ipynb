{
 "cells": [
  {
   "cell_type": "markdown",
   "metadata": {},
   "source": [
    "## Playing With Functions"
   ]
  },
  {
   "cell_type": "markdown",
   "metadata": {},
   "source": [
    "These exercises are designed to strengthen your grasp on basic programming concepts. Read what is required of you carefully. For example, instructions to **return** values are not the same as those of **printing**.\n",
    "\n",
    "Make sure that cells are in **script mode** (not **interactive mode**).\n"
   ]
  },
  {
   "cell_type": "markdown",
   "metadata": {},
   "source": [
    "# 1\n",
    "### 1 point\n",
    "\n",
    "Write a function that takes the circumference of a circle as a parameter and **returns** the area of that circle.\n",
    "\n",
    "Note: Assume the value of pi is 3.1416"
   ]
  },
  {
   "cell_type": "code",
   "execution_count": 17,
   "metadata": {},
   "outputs": [
    {
     "name": "stdout",
     "output_type": "stream",
     "text": [
      "Enter circumference: 10\n",
      "Circumference: 31.416\n"
     ]
    }
   ],
   "source": [
    "def comp_area_circle(circumference):\n",
    "    circle_area = circumference*3.1416\n",
    "    return circle_area\n",
    "\n",
    "circumference = int(input(\"Enter circumference: \"))\n",
    "\n",
    "print(\"Circumference:\",comp_area_circle(circumference))"
   ]
  },
  {
   "cell_type": "markdown",
   "metadata": {},
   "source": [
    "# 2\n",
    "### 2 points\n",
    "\n",
    "Write a function that takes a 5-character string as a parameter and **returns** the string in reverse order.\n",
    "\n",
    "e.g. reverseString(\"Hello\") -> \"olleH\""
   ]
  },
  {
   "cell_type": "code",
   "execution_count": 8,
   "metadata": {},
   "outputs": [
    {
     "name": "stdout",
     "output_type": "stream",
     "text": [
      "Enter 5-character string: Hellooo\n",
      "Sorry, something went wrong.\n",
      "Enter 5-character string: Hello\n",
      "olleH\n"
     ]
    }
   ],
   "source": [
    "def reverse_string(five_char):\n",
    "    if len(five_char) > 5:\n",
    "        print(\"Sorry, something went wrong.\")\n",
    "        five_char = str(input(\"Enter 5-character string: \"))\n",
    "    else:\n",
    "        pass\n",
    "    return five_char[::-1]\n",
    "\n",
    "five_char = str(input(\"Enter 5-character string: \"))\n",
    "\n",
    "print(reverse_string(five_char))"
   ]
  },
  {
   "cell_type": "markdown",
   "metadata": {},
   "source": [
    "# 3\n",
    "### 2 points\n",
    "\n",
    "Write a function that takes a positive integer as input and **returns** the sum of all positive integers smaller than and including the number itself.\n",
    "\n",
    "e.g. backAddition(5) -> 1 + 2 + 3 + 4 + 5 -> 15"
   ]
  },
  {
   "cell_type": "code",
   "execution_count": 12,
   "metadata": {},
   "outputs": [
    {
     "name": "stdout",
     "output_type": "stream",
     "text": [
      "Enter positive integer: 5\n",
      "15\n"
     ]
    }
   ],
   "source": [
    "def backAddition(pos_int,x=0):\n",
    "    while pos_int > 0:\n",
    "        x += pos_int\n",
    "        pos_int -= 1\n",
    "    return x\n",
    "\n",
    "pos_int = int(input(\"Enter positive integer: \")) \n",
    "\n",
    "print(backAddition(pos_int))"
   ]
  },
  {
   "cell_type": "markdown",
   "metadata": {},
   "source": [
    "# 4\n",
    "### 5 points (all or nothing)\n",
    "\n",
    "The sum of the squares of the first ten natural numbers is,\n",
    "12 + 22 + ... + 102 = 385\n",
    "\n",
    "The square of the sum of the first ten natural numbers is,\n",
    "(1 + 2 + ... + 10)2 = 552 = 3025\n",
    "\n",
    "Hence the difference between the sum of the squares of the first ten natural numbers and the square of the sum is 3025 − 385 = 2640.\n",
    "\n",
    "Find the difference between the sum of the squares of the first one hundred natural numbers and the square of the sum.\n",
    "\n",
    "Show code that generates the answer."
   ]
  },
  {
   "cell_type": "code",
   "execution_count": 16,
   "metadata": {},
   "outputs": [
    {
     "name": "stdout",
     "output_type": "stream",
     "text": [
      "Enter integer: 10\n",
      "The sum of the square of the first 10 numbers is 385.\n",
      "But, the square of the sum of the first 10 numbers is 3025.\n",
      "And, their difference is 2640.\n"
     ]
    }
   ],
   "source": [
    "def Sum_of_Square(n,a=0):\n",
    "    i = 1\n",
    "    for i in range(n+1):\n",
    "        a += i**2\n",
    "        n -= 1\n",
    "    return a\n",
    "\n",
    "def Square_of_Sum(n,b=0):\n",
    "    while n >= 0:\n",
    "        b += n\n",
    "        n -= 1\n",
    "    return b**2\n",
    "\n",
    "n = int(input(\"Enter integer: \"))\n",
    "\n",
    "x = Sum_of_Square(n)\n",
    "y = Square_of_Sum(n)\n",
    "\n",
    "# difference  between the square of the sum and sum of the square of the first n natural numbers\n",
    "z = y - x\n",
    "\n",
    "\n",
    "print(\"The sum of the square of the first\", n, \"numbers is\", x, end=\".\\n\")\n",
    "print(\"But, the square of the sum of the first\", n, \"numbers is\", y, end=\".\\n\")\n",
    "print(\"And, their difference is\", z, end=\".\\n\")\n"
   ]
  },
  {
   "cell_type": "markdown",
   "metadata": {},
   "source": [
    "# 5\n",
    "### 5 points \n",
    "\n",
    "Write a function that allows a self-service Point of Sale system to give you the exact change when you pay in cash.\n",
    "\n",
    "The function should accept the number of cents entered by the caller of the function. It then should **display** the denominations of the coins that should be given to the buyer. The change should use as few coins as possible. Assume that the Point of Sale system is loaded with 1 cent, 5 cents, 10 cents, 25 cents and 1 peso coins.\n",
    "\n",
    "Write main program code that accepts the number of cents manually through user input and calls the function written above.\n",
    "\n",
    "**Input:** The program accepts one positive integer, ***cents***, corresponding to the total change to be given by the Point of Sale system.\n",
    "\n",
    "**Output:** The number of 1 peso, 25 cents, 10 cents, 5 cents and 1 cent coins respectively. There should be one output per line.\n",
    "\n",
    "**Sample Input 1:**  \n",
    "105\n",
    "\n",
    "**Sample Output 1**  \n",
    "1  \n",
    "0  \n",
    "0  \n",
    "1  \n",
    "0  \n",
    "\n",
    "**Sample Input 2:**  \n",
    "69  \n",
    "\n",
    "**Sample Output 2:**  \n",
    "0  \n",
    "2  \n",
    "1  \n",
    "1  \n",
    "4  \n",
    "\n",
    "\n"
   ]
  },
  {
   "cell_type": "code",
   "execution_count": 19,
   "metadata": {},
   "outputs": [
    {
     "name": "stdout",
     "output_type": "stream",
     "text": [
      "Enter cash in cents: 69\n",
      "0 of 1 peso coins\n",
      "2 of 25 cents\n",
      "1 of 10 cents\n",
      "1 of 5 cents\n",
      "4 of 1 cent coins\n"
     ]
    }
   ],
   "source": [
    "def exact_change(cents):\n",
    "    print(cents//100,\"of 1 peso coins\")\n",
    "    cents %= 100\n",
    "    print(cents//25,\"of 25 cents\")\n",
    "    cents %= 25\n",
    "    print(cents//10,\"of 10 cents\")\n",
    "    cents %= 10\n",
    "    print(cents//5,\"of 5 cents\")\n",
    "    cents %= 5\n",
    "    print(cents//1,\"of 1 cent coins\")\n",
    "    \n",
    "cents = int(input(\"Enter cash in cents: \"))\n",
    "\n",
    "exact_change(cents)"
   ]
  },
  {
   "cell_type": "code",
   "execution_count": null,
   "metadata": {},
   "outputs": [],
   "source": []
  }
 ],
 "metadata": {
  "kernelspec": {
   "display_name": "Python 3",
   "language": "python",
   "name": "python3"
  },
  "language_info": {
   "codemirror_mode": {
    "name": "ipython",
    "version": 3
   },
   "file_extension": ".py",
   "mimetype": "text/x-python",
   "name": "python",
   "nbconvert_exporter": "python",
   "pygments_lexer": "ipython3",
   "version": "3.7.6"
  }
 },
 "nbformat": 4,
 "nbformat_minor": 2
}
