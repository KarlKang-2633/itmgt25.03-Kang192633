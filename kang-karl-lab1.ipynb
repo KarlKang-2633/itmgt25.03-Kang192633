{
 "cells": [
  {
   "cell_type": "markdown",
   "metadata": {},
   "source": [
    "## 192633\n",
    "\n",
    "## Kang\n",
    "\n",
    "## 2 BS ME"
   ]
  },
  {
   "cell_type": "markdown",
   "metadata": {},
   "source": [
    "### Problem 1\n",
    "**Write a program that accepts an amount in US Dollars and converts to Philippine Pesos.**\n"
   ]
  },
  {
   "cell_type": "code",
   "execution_count": 1,
   "metadata": {},
   "outputs": [
    {
     "name": "stdout",
     "output_type": "stream",
     "text": [
      "Enter the amount in US Dollars: 200\n",
      "200.0 US dollar(s) = 10000.0 Philippine Pesos\n"
     ]
    }
   ],
   "source": [
    "def dollars_to_pesos(usdollaramt):\n",
    "    phpamt = usdollaramt*50\n",
    "    return phpamt   \n",
    "\n",
    "usdollaramt = float(input(\"Enter the amount in US Dollars: \"))\n",
    "\n",
    "phpamt = dollars_to_pesos(usdollaramt)\n",
    "\n",
    "print(usdollaramt,\"US dollar(s) =\",phpamt,\"Philippine Pesos\")"
   ]
  },
  {
   "cell_type": "markdown",
   "metadata": {},
   "source": [
    "### Problem 2\n",
    "\n",
    "**Write a program that accepts two positive integers, *a* and *b*, one per line.**\n"
   ]
  },
  {
   "cell_type": "code",
   "execution_count": 2,
   "metadata": {},
   "outputs": [
    {
     "name": "stdout",
     "output_type": "stream",
     "text": [
      "Enter first number: 10\n",
      "Enter second number: 5\n",
      "Sum: 15\n",
      "Difference: 5\n",
      "Product: 50\n",
      "Quotient: 2\n",
      "Remainder: 0\n"
     ]
    }
   ],
   "source": [
    "a = int(input(\"Enter first number: \"))\n",
    "b = int(input(\"Enter second number: \"))\n",
    "\n",
    "print(\"Sum:\",a+b)\n",
    "print(\"Difference:\",a-b)\n",
    "print(\"Product:\",a*b)\n",
    "print(\"Quotient:\",a//b)\n",
    "print(\"Remainder:\",a%b)"
   ]
  },
  {
   "cell_type": "markdown",
   "metadata": {},
   "source": [
    "### Problem 3\n",
    "\n",
    "**Write a program that computes for your Body Mass Index (BMI).** "
   ]
  },
  {
   "cell_type": "code",
   "execution_count": 3,
   "metadata": {},
   "outputs": [
    {
     "name": "stdout",
     "output_type": "stream",
     "text": [
      "Enter kg: 55\n",
      "Enter cm: 153\n",
      "BMI: 23.49523687470631\n"
     ]
    }
   ],
   "source": [
    "def convert_cm_to_m(cm):\n",
    "    m = cm/100\n",
    "    return m\n",
    "\n",
    "def compute_bmi(kg,cm):\n",
    "    m = convert_cm_to_m(cm)\n",
    "    BMI = kg/(m**2)\n",
    "    return BMI\n",
    "\n",
    "kg = float(input(\"Enter kg: \"))\n",
    "cm = float(input(\"Enter cm: \"))\n",
    "\n",
    "BMI = compute_bmi(kg,cm)\n",
    "\n",
    "print(\"BMI:\",BMI)"
   ]
  }
 ],
 "metadata": {
  "kernelspec": {
   "display_name": "Python 3",
   "language": "python",
   "name": "python3"
  },
  "language_info": {
   "codemirror_mode": {
    "name": "ipython",
    "version": 3
   },
   "file_extension": ".py",
   "mimetype": "text/x-python",
   "name": "python",
   "nbconvert_exporter": "python",
   "pygments_lexer": "ipython3",
   "version": "3.7.6"
  }
 },
 "nbformat": 4,
 "nbformat_minor": 4
}
